{
 "cells": [
  {
   "cell_type": "code",
   "execution_count": 1,
   "metadata": {},
   "outputs": [
    {
     "name": "stderr",
     "output_type": "stream",
     "text": [
      "C:\\Users\\Fida Hussain\\anaconda3\\lib\\site-packages\\tensorflow\\python\\framework\\dtypes.py:516: FutureWarning: Passing (type, 1) or '1type' as a synonym of type is deprecated; in a future version of numpy, it will be understood as (type, (1,)) / '(1,)type'.\n",
      "  _np_qint8 = np.dtype([(\"qint8\", np.int8, 1)])\n",
      "C:\\Users\\Fida Hussain\\anaconda3\\lib\\site-packages\\tensorflow\\python\\framework\\dtypes.py:517: FutureWarning: Passing (type, 1) or '1type' as a synonym of type is deprecated; in a future version of numpy, it will be understood as (type, (1,)) / '(1,)type'.\n",
      "  _np_quint8 = np.dtype([(\"quint8\", np.uint8, 1)])\n",
      "C:\\Users\\Fida Hussain\\anaconda3\\lib\\site-packages\\tensorflow\\python\\framework\\dtypes.py:518: FutureWarning: Passing (type, 1) or '1type' as a synonym of type is deprecated; in a future version of numpy, it will be understood as (type, (1,)) / '(1,)type'.\n",
      "  _np_qint16 = np.dtype([(\"qint16\", np.int16, 1)])\n",
      "C:\\Users\\Fida Hussain\\anaconda3\\lib\\site-packages\\tensorflow\\python\\framework\\dtypes.py:519: FutureWarning: Passing (type, 1) or '1type' as a synonym of type is deprecated; in a future version of numpy, it will be understood as (type, (1,)) / '(1,)type'.\n",
      "  _np_quint16 = np.dtype([(\"quint16\", np.uint16, 1)])\n",
      "C:\\Users\\Fida Hussain\\anaconda3\\lib\\site-packages\\tensorflow\\python\\framework\\dtypes.py:520: FutureWarning: Passing (type, 1) or '1type' as a synonym of type is deprecated; in a future version of numpy, it will be understood as (type, (1,)) / '(1,)type'.\n",
      "  _np_qint32 = np.dtype([(\"qint32\", np.int32, 1)])\n",
      "C:\\Users\\Fida Hussain\\anaconda3\\lib\\site-packages\\tensorflow\\python\\framework\\dtypes.py:525: FutureWarning: Passing (type, 1) or '1type' as a synonym of type is deprecated; in a future version of numpy, it will be understood as (type, (1,)) / '(1,)type'.\n",
      "  np_resource = np.dtype([(\"resource\", np.ubyte, 1)])\n",
      "C:\\Users\\Fida Hussain\\anaconda3\\lib\\site-packages\\tensorboard\\compat\\tensorflow_stub\\dtypes.py:541: FutureWarning: Passing (type, 1) or '1type' as a synonym of type is deprecated; in a future version of numpy, it will be understood as (type, (1,)) / '(1,)type'.\n",
      "  _np_qint8 = np.dtype([(\"qint8\", np.int8, 1)])\n",
      "C:\\Users\\Fida Hussain\\anaconda3\\lib\\site-packages\\tensorboard\\compat\\tensorflow_stub\\dtypes.py:542: FutureWarning: Passing (type, 1) or '1type' as a synonym of type is deprecated; in a future version of numpy, it will be understood as (type, (1,)) / '(1,)type'.\n",
      "  _np_quint8 = np.dtype([(\"quint8\", np.uint8, 1)])\n",
      "C:\\Users\\Fida Hussain\\anaconda3\\lib\\site-packages\\tensorboard\\compat\\tensorflow_stub\\dtypes.py:543: FutureWarning: Passing (type, 1) or '1type' as a synonym of type is deprecated; in a future version of numpy, it will be understood as (type, (1,)) / '(1,)type'.\n",
      "  _np_qint16 = np.dtype([(\"qint16\", np.int16, 1)])\n",
      "C:\\Users\\Fida Hussain\\anaconda3\\lib\\site-packages\\tensorboard\\compat\\tensorflow_stub\\dtypes.py:544: FutureWarning: Passing (type, 1) or '1type' as a synonym of type is deprecated; in a future version of numpy, it will be understood as (type, (1,)) / '(1,)type'.\n",
      "  _np_quint16 = np.dtype([(\"quint16\", np.uint16, 1)])\n",
      "C:\\Users\\Fida Hussain\\anaconda3\\lib\\site-packages\\tensorboard\\compat\\tensorflow_stub\\dtypes.py:545: FutureWarning: Passing (type, 1) or '1type' as a synonym of type is deprecated; in a future version of numpy, it will be understood as (type, (1,)) / '(1,)type'.\n",
      "  _np_qint32 = np.dtype([(\"qint32\", np.int32, 1)])\n",
      "C:\\Users\\Fida Hussain\\anaconda3\\lib\\site-packages\\tensorboard\\compat\\tensorflow_stub\\dtypes.py:550: FutureWarning: Passing (type, 1) or '1type' as a synonym of type is deprecated; in a future version of numpy, it will be understood as (type, (1,)) / '(1,)type'.\n",
      "  np_resource = np.dtype([(\"resource\", np.ubyte, 1)])\n"
     ]
    }
   ],
   "source": [
    "import pandas as pd\n",
    "import numpy as np\n",
    "import seaborn as sns\n",
    "import matplotlib.pyplot as plt\n",
    "from tensorflow.keras.models import Sequential\n",
    "from tensorflow.keras.layers import Dense\n",
    "import warnings\n",
    "warnings.filterwarnings('ignore')"
   ]
  },
  {
   "cell_type": "code",
   "execution_count": 2,
   "metadata": {},
   "outputs": [],
   "source": [
    "# y = mx+c + noise"
   ]
  },
  {
   "cell_type": "code",
   "execution_count": 3,
   "metadata": {},
   "outputs": [],
   "source": [
    "m=2\n",
    "c=3\n",
    "x= np.linspace(0,50,100)\n",
    "noise = np.random.normal(0,4,len(x))"
   ]
  },
  {
   "cell_type": "code",
   "execution_count": 6,
   "metadata": {},
   "outputs": [],
   "source": [
    "y = m*x+c+noise"
   ]
  },
  {
   "cell_type": "code",
   "execution_count": 22,
   "metadata": {},
   "outputs": [
    {
     "data": {
      "image/png": "[encoded data removed]",
      "text/plain": [
       "<Figure size 576x360 with 1 Axes>"
      ]
     },
     "metadata": {
      "needs_background": "light"
     },
     "output_type": "display_data"
    }
   ],
   "source": [
    "plt.figure(figsize=(8,5))\n",
    "plt.plot(x,y,'*');"
   ]
  },
  {
   "cell_type": "code",
   "execution_count": 11,
   "metadata": {},
   "outputs": [],
   "source": [
    "# model\n"
   ]
  },
  {
   "cell_type": "code",
   "execution_count": 12,
   "metadata": {},
   "outputs": [
    {
     "name": "stdout",
     "output_type": "stream",
     "text": [
      "WARNING:tensorflow:From C:\\Users\\Fida Hussain\\anaconda3\\lib\\site-packages\\tensorflow\\python\\ops\\init_ops.py:1251: calling VarianceScaling.__init__ (from tensorflow.python.ops.init_ops) with dtype is deprecated and will be removed in a future version.\n",
      "Instructions for updating:\n",
      "Call initializer instance with the dtype argument instead of passing it to the constructor\n"
     ]
    }
   ],
   "source": [
    "model = Sequential()\n",
    "model.add(Dense(4,input_shape=(1,), activation='relu'))\n",
    "model.add(Dense(4,activation='relu'))\n",
    "\n",
    "model.add(Dense(1,activation='linear'))\n",
    "\n",
    "model.compile(loss='mse', optimizer='adam')"
   ]
  },
  {
   "cell_type": "code",
   "execution_count": 23,
   "metadata": {},
   "outputs": [
    {
     "name": "stdout",
     "output_type": "stream",
     "text": [
      "Model: \"sequential\"\n",
      "_________________________________________________________________\n",
      "Layer (type)                 Output Shape              Param #   \n",
      "=================================================================\n",
      "dense (Dense)                (None, 4)                 8         \n",
      "_________________________________________________________________\n",
      "dense_1 (Dense)              (None, 4)                 20        \n",
      "_________________________________________________________________\n",
      "dense_2 (Dense)              (None, 1)                 5         \n",
      "=================================================================\n",
      "Total params: 33\n",
      "Trainable params: 33\n",
      "Non-trainable params: 0\n",
      "_________________________________________________________________\n"
     ]
    }
   ],
   "source": [
    "model.summary()"
   ]
  },
  {
   "cell_type": "code",
   "execution_count": 13,
   "metadata": {},
   "outputs": [
    {
     "name": "stdout",
     "output_type": "stream",
     "text": [
      "Epoch 1/200\n",
      "100/100 [==============================] - 1s 9ms/sample - loss: 3576.8606\n",
      "Epoch 2/200\n",
      "100/100 [==============================] - 0s 165us/sample - loss: 3537.2289\n",
      "Epoch 3/200\n",
      "100/100 [==============================] - 0s 102us/sample - loss: 3495.2966\n",
      "Epoch 4/200\n",
      "100/100 [==============================] - 0s 97us/sample - loss: 3454.8537\n",
      "Epoch 5/200\n",
      "100/100 [==============================] - 0s 86us/sample - loss: 3414.5673\n",
      "Epoch 6/200\n",
      "100/100 [==============================] - 0s 87us/sample - loss: 3374.4894\n",
      "Epoch 7/200\n",
      "100/100 [==============================] - 0s 76us/sample - loss: 3333.8009\n",
      "Epoch 8/200\n",
      "100/100 [==============================] - 0s 81us/sample - loss: 3294.0900\n",
      "Epoch 9/200\n",
      "100/100 [==============================] - 0s 82us/sample - loss: 3253.5160\n",
      "Epoch 10/200\n",
      "100/100 [==============================] - 0s 78us/sample - loss: 3211.9927\n",
      "Epoch 11/200\n",
      "100/100 [==============================] - 0s 74us/sample - loss: 3169.2904\n",
      "Epoch 12/200\n",
      "100/100 [==============================] - 0s 77us/sample - loss: 3129.4216\n",
      "Epoch 13/200\n",
      "100/100 [==============================] - 0s 89us/sample - loss: 3088.4418\n",
      "Epoch 14/200\n",
      "100/100 [==============================] - 0s 80us/sample - loss: 3047.2493\n",
      "Epoch 15/200\n",
      "100/100 [==============================] - 0s 68us/sample - loss: 3004.7708\n",
      "Epoch 16/200\n",
      "100/100 [==============================] - 0s 85us/sample - loss: 2962.2978\n",
      "Epoch 17/200\n",
      "100/100 [==============================] - 0s 71us/sample - loss: 2921.2557\n",
      "Epoch 18/200\n",
      "100/100 [==============================] - 0s 71us/sample - loss: 2879.8170\n",
      "Epoch 19/200\n",
      "100/100 [==============================] - 0s 70us/sample - loss: 2839.7518\n",
      "Epoch 20/200\n",
      "100/100 [==============================] - 0s 73us/sample - loss: 2798.8273\n",
      "Epoch 21/200\n",
      "100/100 [==============================] - 0s 80us/sample - loss: 2757.2020\n",
      "Epoch 22/200\n",
      "100/100 [==============================] - 0s 100us/sample - loss: 2712.2176\n",
      "Epoch 23/200\n",
      "100/100 [==============================] - 0s 121us/sample - loss: 2669.3726\n",
      "Epoch 24/200\n",
      "100/100 [==============================] - 0s 116us/sample - loss: 2626.7128\n",
      "Epoch 25/200\n",
      "100/100 [==============================] - 0s 125us/sample - loss: 2580.9101\n",
      "Epoch 26/200\n",
      "100/100 [==============================] - 0s 125us/sample - loss: 2535.2503\n",
      "Epoch 27/200\n",
      "100/100 [==============================] - 0s 112us/sample - loss: 2490.6076\n",
      "Epoch 28/200\n",
      "100/100 [==============================] - 0s 134us/sample - loss: 2442.8220\n",
      "Epoch 29/200\n",
      "100/100 [==============================] - 0s 133us/sample - loss: 2395.0358\n",
      "Epoch 30/200\n",
      "100/100 [==============================] - 0s 129us/sample - loss: 2348.1257\n",
      "Epoch 31/200\n",
      "100/100 [==============================] - 0s 118us/sample - loss: 2300.6400\n",
      "Epoch 32/200\n",
      "100/100 [==============================] - 0s 118us/sample - loss: 2250.4688\n",
      "Epoch 33/200\n",
      "100/100 [==============================] - 0s 125us/sample - loss: 2203.5950\n",
      "Epoch 34/200\n",
      "100/100 [==============================] - 0s 113us/sample - loss: 2155.8324\n",
      "Epoch 35/200\n",
      "100/100 [==============================] - 0s 101us/sample - loss: 2110.4854\n",
      "Epoch 36/200\n",
      "100/100 [==============================] - 0s 82us/sample - loss: 2063.9088\n",
      "Epoch 37/200\n",
      "100/100 [==============================] - 0s 77us/sample - loss: 2017.8204\n",
      "Epoch 38/200\n",
      "100/100 [==============================] - 0s 79us/sample - loss: 1973.4277\n",
      "Epoch 39/200\n",
      "100/100 [==============================] - 0s 84us/sample - loss: 1930.3807\n",
      "Epoch 40/200\n",
      "100/100 [==============================] - 0s 95us/sample - loss: 1885.0329\n",
      "Epoch 41/200\n",
      "100/100 [==============================] - 0s 84us/sample - loss: 1842.0486\n",
      "Epoch 42/200\n",
      "100/100 [==============================] - 0s 79us/sample - loss: 1797.8035\n",
      "Epoch 43/200\n",
      "100/100 [==============================] - 0s 91us/sample - loss: 1753.7999\n",
      "Epoch 44/200\n",
      "100/100 [==============================] - 0s 69us/sample - loss: 1711.7371\n",
      "Epoch 45/200\n",
      "100/100 [==============================] - 0s 93us/sample - loss: 1669.4098\n",
      "Epoch 46/200\n",
      "100/100 [==============================] - 0s 78us/sample - loss: 1628.3992\n",
      "Epoch 47/200\n",
      "100/100 [==============================] - 0s 52us/sample - loss: 1587.8693\n",
      "Epoch 48/200\n",
      "100/100 [==============================] - 0s 77us/sample - loss: 1546.2305\n",
      "Epoch 49/200\n",
      "100/100 [==============================] - 0s 85us/sample - loss: 1507.1637\n",
      "Epoch 50/200\n",
      "100/100 [==============================] - 0s 87us/sample - loss: 1465.9855\n",
      "Epoch 51/200\n",
      "100/100 [==============================] - 0s 115us/sample - loss: 1424.4573\n",
      "Epoch 52/200\n",
      "100/100 [==============================] - 0s 100us/sample - loss: 1380.8523\n",
      "Epoch 53/200\n",
      "100/100 [==============================] - 0s 89us/sample - loss: 1336.9547\n",
      "Epoch 54/200\n",
      "100/100 [==============================] - 0s 133us/sample - loss: 1294.5605\n",
      "Epoch 55/200\n",
      "100/100 [==============================] - 0s 80us/sample - loss: 1250.3392\n",
      "Epoch 56/200\n",
      "100/100 [==============================] - 0s 91us/sample - loss: 1210.2379\n",
      "Epoch 57/200\n",
      "100/100 [==============================] - 0s 92us/sample - loss: 1171.0448\n",
      "Epoch 58/200\n",
      "100/100 [==============================] - 0s 79us/sample - loss: 1129.2762\n",
      "Epoch 59/200\n",
      "100/100 [==============================] - 0s 80us/sample - loss: 1091.2922\n",
      "Epoch 60/200\n",
      "100/100 [==============================] - 0s 89us/sample - loss: 1055.5541\n",
      "Epoch 61/200\n",
      "100/100 [==============================] - 0s 68us/sample - loss: 1019.6677\n",
      "Epoch 62/200\n",
      "100/100 [==============================] - 0s 65us/sample - loss: 984.3064\n",
      "Epoch 63/200\n",
      "100/100 [==============================] - 0s 93us/sample - loss: 951.1768\n",
      "Epoch 64/200\n",
      "100/100 [==============================] - 0s 156us/sample - loss: 917.5036\n",
      "Epoch 65/200\n",
      "100/100 [==============================] - 0s 105us/sample - loss: 885.0719\n",
      "Epoch 66/200\n",
      "100/100 [==============================] - 0s 105us/sample - loss: 853.3172\n",
      "Epoch 67/200\n",
      "100/100 [==============================] - 0s 110us/sample - loss: 820.3856\n",
      "Epoch 68/200\n",
      "100/100 [==============================] - 0s 112us/sample - loss: 788.4671\n",
      "Epoch 69/200\n",
      "100/100 [==============================] - 0s 101us/sample - loss: 757.9689\n",
      "Epoch 70/200\n",
      "100/100 [==============================] - 0s 154us/sample - loss: 727.3323\n",
      "Epoch 71/200\n",
      "100/100 [==============================] - 0s 148us/sample - loss: 695.8578\n",
      "Epoch 72/200\n",
      "100/100 [==============================] - 0s 70us/sample - loss: 664.5819\n",
      "Epoch 73/200\n",
      "100/100 [==============================] - 0s 90us/sample - loss: 634.5755\n",
      "Epoch 74/200\n",
      "100/100 [==============================] - 0s 120us/sample - loss: 606.3151\n",
      "Epoch 75/200\n",
      "100/100 [==============================] - 0s 93us/sample - loss: 576.1718\n",
      "Epoch 76/200\n",
      "100/100 [==============================] - 0s 92us/sample - loss: 547.5104\n",
      "Epoch 77/200\n",
      "100/100 [==============================] - 0s 89us/sample - loss: 519.1719\n",
      "Epoch 78/200\n",
      "100/100 [==============================] - 0s 67us/sample - loss: 492.3885\n",
      "Epoch 79/200\n",
      "100/100 [==============================] - 0s 86us/sample - loss: 467.4606\n",
      "Epoch 80/200\n",
      "100/100 [==============================] - 0s 56us/sample - loss: 443.5972\n",
      "Epoch 81/200\n",
      "100/100 [==============================] - 0s 125us/sample - loss: 420.7802\n",
      "Epoch 82/200\n",
      "100/100 [==============================] - 0s 147us/sample - loss: 399.2797\n",
      "Epoch 83/200\n",
      "100/100 [==============================] - 0s 95us/sample - loss: 377.8944\n",
      "Epoch 84/200\n",
      "100/100 [==============================] - 0s 82us/sample - loss: 357.3847\n",
      "Epoch 85/200\n",
      "100/100 [==============================] - 0s 91us/sample - loss: 337.8604\n",
      "Epoch 86/200\n",
      "100/100 [==============================] - 0s 90us/sample - loss: 320.6152\n",
      "Epoch 87/200\n",
      "100/100 [==============================] - 0s 71us/sample - loss: 303.3567\n",
      "Epoch 88/200\n",
      "100/100 [==============================] - 0s 120us/sample - loss: 285.9654\n",
      "Epoch 89/200\n",
      "100/100 [==============================] - 0s 108us/sample - loss: 269.5963\n",
      "Epoch 90/200\n",
      "100/100 [==============================] - 0s 81us/sample - loss: 253.8723\n",
      "Epoch 91/200\n",
      "100/100 [==============================] - 0s 80us/sample - loss: 238.0462\n",
      "Epoch 92/200\n",
      "100/100 [==============================] - 0s 80us/sample - loss: 223.2372\n",
      "Epoch 93/200\n"
     ]
    },
    {
     "name": "stdout",
     "output_type": "stream",
     "text": [
      "100/100 [==============================] - 0s 101us/sample - loss: 209.2595\n",
      "Epoch 94/200\n",
      "100/100 [==============================] - 0s 95us/sample - loss: 196.2615\n",
      "Epoch 95/200\n",
      "100/100 [==============================] - 0s 77us/sample - loss: 183.4149\n",
      "Epoch 96/200\n",
      "100/100 [==============================] - 0s 98us/sample - loss: 171.7026\n",
      "Epoch 97/200\n",
      "100/100 [==============================] - 0s 91us/sample - loss: 160.5789\n",
      "Epoch 98/200\n",
      "100/100 [==============================] - 0s 86us/sample - loss: 149.8855\n",
      "Epoch 99/200\n",
      "100/100 [==============================] - 0s 127us/sample - loss: 139.9927\n",
      "Epoch 100/200\n",
      "100/100 [==============================] - 0s 142us/sample - loss: 131.0605\n",
      "Epoch 101/200\n",
      "100/100 [==============================] - 0s 114us/sample - loss: 122.2273\n",
      "Epoch 102/200\n",
      "100/100 [==============================] - 0s 102us/sample - loss: 114.4427\n",
      "Epoch 103/200\n",
      "100/100 [==============================] - 0s 107us/sample - loss: 106.4435\n",
      "Epoch 104/200\n",
      "100/100 [==============================] - 0s 115us/sample - loss: 99.2007\n",
      "Epoch 105/200\n",
      "100/100 [==============================] - 0s 117us/sample - loss: 92.5177\n",
      "Epoch 106/200\n",
      "100/100 [==============================] - 0s 129us/sample - loss: 86.1070\n",
      "Epoch 107/200\n",
      "100/100 [==============================] - 0s 109us/sample - loss: 79.9948\n",
      "Epoch 108/200\n",
      "100/100 [==============================] - 0s 94us/sample - loss: 74.6241\n",
      "Epoch 109/200\n",
      "100/100 [==============================] - 0s 105us/sample - loss: 69.6989\n",
      "Epoch 110/200\n",
      "100/100 [==============================] - 0s 117us/sample - loss: 64.9529\n",
      "Epoch 111/200\n",
      "100/100 [==============================] - 0s 112us/sample - loss: 60.7244\n",
      "Epoch 112/200\n",
      "100/100 [==============================] - 0s 111us/sample - loss: 56.3960\n",
      "Epoch 113/200\n",
      "100/100 [==============================] - 0s 114us/sample - loss: 52.7062\n",
      "Epoch 114/200\n",
      "100/100 [==============================] - 0s 154us/sample - loss: 49.2770\n",
      "Epoch 115/200\n",
      "100/100 [==============================] - 0s 126us/sample - loss: 46.0799\n",
      "Epoch 116/200\n",
      "100/100 [==============================] - 0s 110us/sample - loss: 43.1609\n",
      "Epoch 117/200\n",
      "100/100 [==============================] - 0s 116us/sample - loss: 40.4379\n",
      "Epoch 118/200\n",
      "100/100 [==============================] - 0s 114us/sample - loss: 37.6028\n",
      "Epoch 119/200\n",
      "100/100 [==============================] - 0s 118us/sample - loss: 35.2315\n",
      "Epoch 120/200\n",
      "100/100 [==============================] - 0s 118us/sample - loss: 33.0249\n",
      "Epoch 121/200\n",
      "100/100 [==============================] - 0s 117us/sample - loss: 31.0223\n",
      "Epoch 122/200\n",
      "100/100 [==============================] - 0s 125us/sample - loss: 29.0434\n",
      "Epoch 123/200\n",
      "100/100 [==============================] - 0s 103us/sample - loss: 27.4569\n",
      "Epoch 124/200\n",
      "100/100 [==============================] - 0s 128us/sample - loss: 25.9345\n",
      "Epoch 125/200\n",
      "100/100 [==============================] - 0s 124us/sample - loss: 24.5821\n",
      "Epoch 126/200\n",
      "100/100 [==============================] - 0s 98us/sample - loss: 23.3830\n",
      "Epoch 127/200\n",
      "100/100 [==============================] - 0s 105us/sample - loss: 22.3480\n",
      "Epoch 128/200\n",
      "100/100 [==============================] - 0s 100us/sample - loss: 21.1908\n",
      "Epoch 129/200\n",
      "100/100 [==============================] - 0s 111us/sample - loss: 20.2438\n",
      "Epoch 130/200\n",
      "100/100 [==============================] - 0s 106us/sample - loss: 19.3810\n",
      "Epoch 131/200\n",
      "100/100 [==============================] - 0s 111us/sample - loss: 18.6331\n",
      "Epoch 132/200\n",
      "100/100 [==============================] - 0s 111us/sample - loss: 17.9002\n",
      "Epoch 133/200\n",
      "100/100 [==============================] - 0s 123us/sample - loss: 17.3801\n",
      "Epoch 134/200\n",
      "100/100 [==============================] - 0s 148us/sample - loss: 16.8444\n",
      "Epoch 135/200\n",
      "100/100 [==============================] - 0s 134us/sample - loss: 16.3630\n",
      "Epoch 136/200\n",
      "100/100 [==============================] - 0s 113us/sample - loss: 15.9851\n",
      "Epoch 137/200\n",
      "100/100 [==============================] - 0s 102us/sample - loss: 15.6559\n",
      "Epoch 138/200\n",
      "100/100 [==============================] - 0s 71us/sample - loss: 15.3790\n",
      "Epoch 139/200\n",
      "100/100 [==============================] - 0s 87us/sample - loss: 15.0822\n",
      "Epoch 140/200\n",
      "100/100 [==============================] - 0s 81us/sample - loss: 14.8468\n",
      "Epoch 141/200\n",
      "100/100 [==============================] - 0s 103us/sample - loss: 14.6023\n",
      "Epoch 142/200\n",
      "100/100 [==============================] - 0s 125us/sample - loss: 14.4098\n",
      "Epoch 143/200\n",
      "100/100 [==============================] - 0s 93us/sample - loss: 14.2155\n",
      "Epoch 144/200\n",
      "100/100 [==============================] - 0s 124us/sample - loss: 14.0462\n",
      "Epoch 145/200\n",
      "100/100 [==============================] - 0s 140us/sample - loss: 13.8956\n",
      "Epoch 146/200\n",
      "100/100 [==============================] - 0s 123us/sample - loss: 13.7353\n",
      "Epoch 147/200\n",
      "100/100 [==============================] - 0s 89us/sample - loss: 13.6159\n",
      "Epoch 148/200\n",
      "100/100 [==============================] - 0s 99us/sample - loss: 13.4712\n",
      "Epoch 149/200\n",
      "100/100 [==============================] - 0s 101us/sample - loss: 13.3505\n",
      "Epoch 150/200\n",
      "100/100 [==============================] - 0s 105us/sample - loss: 13.2504\n",
      "Epoch 151/200\n",
      "100/100 [==============================] - 0s 90us/sample - loss: 13.1310\n",
      "Epoch 152/200\n",
      "100/100 [==============================] - 0s 86us/sample - loss: 13.0329\n",
      "Epoch 153/200\n",
      "100/100 [==============================] - 0s 71us/sample - loss: 12.9604\n",
      "Epoch 154/200\n",
      "100/100 [==============================] - 0s 127us/sample - loss: 12.8807\n",
      "Epoch 155/200\n",
      "100/100 [==============================] - 0s 67us/sample - loss: 12.8113\n",
      "Epoch 156/200\n",
      "100/100 [==============================] - 0s 68us/sample - loss: 12.7669\n",
      "Epoch 157/200\n",
      "100/100 [==============================] - 0s 96us/sample - loss: 12.7168\n",
      "Epoch 158/200\n",
      "100/100 [==============================] - 0s 78us/sample - loss: 12.6873\n",
      "Epoch 159/200\n",
      "100/100 [==============================] - 0s 82us/sample - loss: 12.6661\n",
      "Epoch 160/200\n",
      "100/100 [==============================] - 0s 84us/sample - loss: 12.6412\n",
      "Epoch 161/200\n",
      "100/100 [==============================] - 0s 109us/sample - loss: 12.6309\n",
      "Epoch 162/200\n",
      "100/100 [==============================] - 0s 74us/sample - loss: 12.6148\n",
      "Epoch 163/200\n",
      "100/100 [==============================] - 0s 77us/sample - loss: 12.5866\n",
      "Epoch 164/200\n",
      "100/100 [==============================] - 0s 81us/sample - loss: 12.5600\n",
      "Epoch 165/200\n",
      "100/100 [==============================] - 0s 81us/sample - loss: 12.5476\n",
      "Epoch 166/200\n",
      "100/100 [==============================] - 0s 111us/sample - loss: 12.5390\n",
      "Epoch 167/200\n",
      "100/100 [==============================] - 0s 113us/sample - loss: 12.5308\n",
      "Epoch 168/200\n",
      "100/100 [==============================] - 0s 120us/sample - loss: 12.5181\n",
      "Epoch 169/200\n",
      "100/100 [==============================] - 0s 126us/sample - loss: 12.5163\n",
      "Epoch 170/200\n",
      "100/100 [==============================] - 0s 83us/sample - loss: 12.5032\n",
      "Epoch 171/200\n",
      "100/100 [==============================] - 0s 100us/sample - loss: 12.5073\n",
      "Epoch 172/200\n",
      "100/100 [==============================] - 0s 150us/sample - loss: 12.5051\n",
      "Epoch 173/200\n",
      "100/100 [==============================] - 0s 149us/sample - loss: 12.5010\n",
      "Epoch 174/200\n",
      "100/100 [==============================] - 0s 110us/sample - loss: 12.5025\n",
      "Epoch 175/200\n",
      "100/100 [==============================] - 0s 84us/sample - loss: 12.5017\n",
      "Epoch 176/200\n",
      "100/100 [==============================] - 0s 80us/sample - loss: 12.5020\n",
      "Epoch 177/200\n",
      "100/100 [==============================] - 0s 79us/sample - loss: 12.4987\n",
      "Epoch 178/200\n",
      "100/100 [==============================] - 0s 72us/sample - loss: 12.5014\n",
      "Epoch 179/200\n",
      "100/100 [==============================] - 0s 83us/sample - loss: 12.4971\n",
      "Epoch 180/200\n",
      "100/100 [==============================] - 0s 79us/sample - loss: 12.4969\n",
      "Epoch 181/200\n",
      "100/100 [==============================] - 0s 81us/sample - loss: 12.4976\n",
      "Epoch 182/200\n",
      "100/100 [==============================] - 0s 86us/sample - loss: 12.4975\n",
      "Epoch 183/200\n",
      "100/100 [==============================] - 0s 118us/sample - loss: 12.4967\n",
      "Epoch 184/200\n",
      "100/100 [==============================] - 0s 124us/sample - loss: 12.4974\n",
      "Epoch 185/200\n"
     ]
    },
    {
     "name": "stdout",
     "output_type": "stream",
     "text": [
      "100/100 [==============================] - 0s 124us/sample - loss: 12.4979\n",
      "Epoch 186/200\n",
      "100/100 [==============================] - 0s 82us/sample - loss: 12.4957\n",
      "Epoch 187/200\n",
      "100/100 [==============================] - 0s 67us/sample - loss: 12.4951\n",
      "Epoch 188/200\n",
      "100/100 [==============================] - 0s 85us/sample - loss: 12.4983\n",
      "Epoch 189/200\n",
      "100/100 [==============================] - 0s 78us/sample - loss: 12.4977\n",
      "Epoch 190/200\n",
      "100/100 [==============================] - 0s 88us/sample - loss: 12.4996\n",
      "Epoch 191/200\n",
      "100/100 [==============================] - 0s 73us/sample - loss: 12.4979\n",
      "Epoch 192/200\n",
      "100/100 [==============================] - 0s 84us/sample - loss: 12.4981\n",
      "Epoch 193/200\n",
      "100/100 [==============================] - 0s 77us/sample - loss: 12.4970\n",
      "Epoch 194/200\n",
      "100/100 [==============================] - 0s 81us/sample - loss: 12.4968\n",
      "Epoch 195/200\n",
      "100/100 [==============================] - 0s 101us/sample - loss: 12.4965\n",
      "Epoch 196/200\n",
      "100/100 [==============================] - 0s 112us/sample - loss: 12.4956\n",
      "Epoch 197/200\n",
      "100/100 [==============================] - 0s 102us/sample - loss: 12.4973\n",
      "Epoch 198/200\n",
      "100/100 [==============================] - 0s 114us/sample - loss: 12.4984\n",
      "Epoch 199/200\n",
      "100/100 [==============================] - 0s 152us/sample - loss: 12.4981\n",
      "Epoch 200/200\n",
      "100/100 [==============================] - 0s 122us/sample - loss: 12.4983\n"
     ]
    },
    {
     "data": {
      "text/plain": [
       "<tensorflow.python.keras.callbacks.History at 0x217e4d4e608>"
      ]
     },
     "execution_count": 13,
     "metadata": {},
     "output_type": "execute_result"
    }
   ],
   "source": [
    "model.fit(x,y,epochs=200, verbose=1, batch_size=32)"
   ]
  },
  {
   "cell_type": "code",
   "execution_count": 30,
   "metadata": {},
   "outputs": [
    {
     "data": {
      "image/png": "[encoded data removed]",
      "text/plain": [
       "<Figure size 432x288 with 1 Axes>"
      ]
     },
     "metadata": {
      "needs_background": "light"
     },
     "output_type": "display_data"
    }
   ],
   "source": [
    "plt.plot(range(200), model.history.history['loss'])\n",
    "plt.ylabel('LOSS')\n",
    "plt.xlabel('Epochs');"
   ]
  },
  {
   "cell_type": "code",
   "execution_count": 14,
   "metadata": {},
   "outputs": [],
   "source": [
    "x_for_pred = np.linspace(0,50,100)\n",
    "y_pred = model.predict(x_for_pred)"
   ]
  },
  {
   "cell_type": "code",
   "execution_count": 21,
   "metadata": {},
   "outputs": [
    {
     "data": {
      "image/png": "[encoded data removed]",
      "text/plain": [
       "<Figure size 576x360 with 1 Axes>"
      ]
     },
     "metadata": {
      "needs_background": "light"
     },
     "output_type": "display_data"
    }
   ],
   "source": [
    "plt.figure(figsize=(8,5))\n",
    "plt.plot(x,y,'*', label='orignal')\n",
    "plt.plot(x_for_pred, y_pred, 'r', label='prediction')\n",
    "plt.legend();"
   ]
  },
  {
   "cell_type": "code",
   "execution_count": 28,
   "metadata": {},
   "outputs": [],
   "source": [
    "from sklearn.metrics import mean_squared_error"
   ]
  },
  {
   "cell_type": "code",
   "execution_count": 29,
   "metadata": {},
   "outputs": [
    {
     "name": "stdout",
     "output_type": "stream",
     "text": [
      "MSE: 12.498069253650542\n",
      "RMSE: 3.5352608466208744\n"
     ]
    }
   ],
   "source": [
    "print('MSE: {}'.format(mean_squared_error(y,y_pred)))\n",
    "print('RMSE: {}'.format(np.sqrt(mean_squared_error(y,y_pred))))"
   ]
  },
  {
   "cell_type": "code",
   "execution_count": null,
   "metadata": {},
   "outputs": [],
   "source": []
  }
 ],
 "metadata": {
  "kernelspec": {
   "display_name": "Python 3",
   "language": "python",
   "name": "python3"
  },
  "language_info": {
   "codemirror_mode": {
    "name": "ipython",
    "version": 3
   },
   "file_extension": ".py",
   "mimetype": "text/x-python",
   "name": "python",
   "nbconvert_exporter": "python",
   "pygments_lexer": "ipython3",
   "version": "3.7.6"
  }
 },
 "nbformat": 4,
 "nbformat_minor": 4
}
