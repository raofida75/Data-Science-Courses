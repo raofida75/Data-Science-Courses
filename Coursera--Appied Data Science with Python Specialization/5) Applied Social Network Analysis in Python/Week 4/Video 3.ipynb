{
 "cells": [
  {
   "cell_type": "code",
   "execution_count": 1,
   "metadata": {},
   "outputs": [],
   "source": [
    "import networkx as nx"
   ]
  },
  {
   "cell_type": "code",
   "execution_count": 2,
   "metadata": {},
   "outputs": [],
   "source": [
    "G = nx.Graph()"
   ]
  },
  {
   "cell_type": "code",
   "execution_count": 12,
   "metadata": {},
   "outputs": [],
   "source": [
    "G.add_edges_from([('A','B'),('A','D'),('A','E'),('D','B'),('D', 'C'), ('C','B'),('E','F'),('C','F'),('G','I'),('G','H'),('G','E'),('G','F')])"
   ]
  },
  {
   "cell_type": "code",
   "execution_count": 13,
   "metadata": {},
   "outputs": [
    {
     "data": {
      "image/png": "[encoded data removed]",
      "text/plain": [
       "<Figure size 432x288 with 1 Axes>"
      ]
     },
     "metadata": {},
     "output_type": "display_data"
    }
   ],
   "source": [
    "nx.draw_networkx(G)"
   ]
  },
  {
   "cell_type": "code",
   "execution_count": 14,
   "metadata": {},
   "outputs": [
    {
     "data": {
      "text/plain": [
       "[('I', 'H', 1.0),\n",
       " ('A', 'C', 0.5),\n",
       " ('F', 'I', 0.3333333333333333),\n",
       " ('F', 'H', 0.3333333333333333),\n",
       " ('I', 'E', 0.3333333333333333),\n",
       " ('E', 'H', 0.3333333333333333),\n",
       " ('A', 'F', 0.2),\n",
       " ('F', 'B', 0.2),\n",
       " ('F', 'D', 0.2),\n",
       " ('B', 'E', 0.2),\n",
       " ('C', 'E', 0.2),\n",
       " ('E', 'D', 0.2),\n",
       " ('A', 'G', 0.16666666666666666),\n",
       " ('C', 'G', 0.16666666666666666),\n",
       " ('A', 'I', 0.0),\n",
       " ('A', 'H', 0.0),\n",
       " ('B', 'I', 0.0),\n",
       " ('B', 'G', 0.0),\n",
       " ('B', 'H', 0.0),\n",
       " ('I', 'C', 0.0),\n",
       " ('I', 'D', 0.0),\n",
       " ('C', 'H', 0.0),\n",
       " ('D', 'G', 0.0),\n",
       " ('D', 'H', 0.0)]"
      ]
     },
     "execution_count": 14,
     "metadata": {},
     "output_type": "execute_result"
    }
   ],
   "source": [
    "sorted(list(nx.jaccard_coefficient(G)), key=lambda x: x[2], reverse=True)\n",
    "# total neighbours / union of degrees"
   ]
  },
  {
   "cell_type": "code",
   "execution_count": 17,
   "metadata": {},
   "outputs": [
    {
     "data": {
      "text/plain": [
       "[('A', 'C', 0.6666666666666666),\n",
       " ('A', 'F', 0.3333333333333333),\n",
       " ('A', 'G', 0.3333333333333333),\n",
       " ('F', 'B', 0.3333333333333333),\n",
       " ('F', 'D', 0.3333333333333333),\n",
       " ('B', 'E', 0.3333333333333333),\n",
       " ('C', 'G', 0.3333333333333333),\n",
       " ('C', 'E', 0.3333333333333333),\n",
       " ('E', 'D', 0.3333333333333333),\n",
       " ('F', 'I', 0.25),\n",
       " ('F', 'H', 0.25),\n",
       " ('I', 'H', 0.25),\n",
       " ('I', 'E', 0.25),\n",
       " ('E', 'H', 0.25),\n",
       " ('A', 'I', 0),\n",
       " ('A', 'H', 0),\n",
       " ('B', 'I', 0),\n",
       " ('B', 'G', 0),\n",
       " ('B', 'H', 0),\n",
       " ('I', 'C', 0),\n",
       " ('I', 'D', 0),\n",
       " ('C', 'H', 0),\n",
       " ('D', 'G', 0),\n",
       " ('D', 'H', 0)]"
      ]
     },
     "execution_count": 17,
     "metadata": {},
     "output_type": "execute_result"
    }
   ],
   "source": [
    "sorted(list(nx.resource_allocation_index(G)), key=lambda x: x[2], reverse=True)\n",
    "# 1/no of degree of common edge"
   ]
  },
  {
   "cell_type": "code",
   "execution_count": 19,
   "metadata": {},
   "outputs": [
    {
     "data": {
      "text/plain": [
       "[('A', 'C', 1.8204784532536746),\n",
       " ('A', 'F', 0.9102392266268373),\n",
       " ('A', 'G', 0.9102392266268373),\n",
       " ('F', 'B', 0.9102392266268373),\n",
       " ('F', 'D', 0.9102392266268373),\n",
       " ('B', 'E', 0.9102392266268373),\n",
       " ('C', 'G', 0.9102392266268373),\n",
       " ('C', 'E', 0.9102392266268373),\n",
       " ('E', 'D', 0.9102392266268373),\n",
       " ('F', 'I', 0.7213475204444817),\n",
       " ('F', 'H', 0.7213475204444817),\n",
       " ('I', 'H', 0.7213475204444817),\n",
       " ('I', 'E', 0.7213475204444817),\n",
       " ('E', 'H', 0.7213475204444817),\n",
       " ('A', 'I', 0),\n",
       " ('A', 'H', 0),\n",
       " ('B', 'I', 0),\n",
       " ('B', 'G', 0),\n",
       " ('B', 'H', 0),\n",
       " ('I', 'C', 0),\n",
       " ('I', 'D', 0),\n",
       " ('C', 'H', 0),\n",
       " ('D', 'G', 0),\n",
       " ('D', 'H', 0)]"
      ]
     },
     "execution_count": 19,
     "metadata": {},
     "output_type": "execute_result"
    }
   ],
   "source": [
    "sorted(list(nx.adamic_adar_index(G)), key=lambda x: x[2], reverse=True)\n",
    "# 1/ log(no of degree of common edge)"
   ]
  },
  {
   "cell_type": "code",
   "execution_count": 20,
   "metadata": {},
   "outputs": [
    {
     "data": {
      "text/plain": [
       "[('A', 'G', 12),\n",
       " ('B', 'G', 12),\n",
       " ('C', 'G', 12),\n",
       " ('D', 'G', 12),\n",
       " ('A', 'F', 9),\n",
       " ('A', 'C', 9),\n",
       " ('F', 'B', 9),\n",
       " ('F', 'D', 9),\n",
       " ('B', 'E', 9),\n",
       " ('C', 'E', 9),\n",
       " ('E', 'D', 9),\n",
       " ('A', 'I', 3),\n",
       " ('A', 'H', 3),\n",
       " ('F', 'I', 3),\n",
       " ('F', 'H', 3),\n",
       " ('B', 'I', 3),\n",
       " ('B', 'H', 3),\n",
       " ('I', 'C', 3),\n",
       " ('I', 'E', 3),\n",
       " ('I', 'D', 3),\n",
       " ('C', 'H', 3),\n",
       " ('E', 'H', 3),\n",
       " ('D', 'H', 3),\n",
       " ('I', 'H', 1)]"
      ]
     },
     "execution_count": 20,
     "metadata": {},
     "output_type": "execute_result"
    }
   ],
   "source": [
    "sorted(list(nx.preferential_attachment(G)), key=lambda x: x[2], reverse=True)\n",
    "# product of degrees of X and Y"
   ]
  },
  {
   "cell_type": "markdown",
   "metadata": {},
   "source": [
    "# community common neighbours"
   ]
  },
  {
   "cell_type": "code",
   "execution_count": 25,
   "metadata": {},
   "outputs": [],
   "source": [
    "comm1 = ('A B C D').split(' ')\n",
    "comm2 = ('E F G H I').split(' ')"
   ]
  },
  {
   "cell_type": "code",
   "execution_count": 26,
   "metadata": {},
   "outputs": [],
   "source": [
    "for i in comm1:\n",
    "    G.nodes[i]['community']=0"
   ]
  },
  {
   "cell_type": "code",
   "execution_count": 27,
   "metadata": {},
   "outputs": [],
   "source": [
    "for i in comm2:\n",
    "    G.nodes[i]['community']=1"
   ]
  },
  {
   "cell_type": "code",
   "execution_count": 29,
   "metadata": {},
   "outputs": [
    {
     "data": {
      "text/plain": [
       "[('A', 'C', 4),\n",
       " ('F', 'I', 2),\n",
       " ('F', 'H', 2),\n",
       " ('I', 'H', 2),\n",
       " ('I', 'E', 2),\n",
       " ('E', 'H', 2),\n",
       " ('A', 'F', 1),\n",
       " ('A', 'G', 1),\n",
       " ('F', 'B', 1),\n",
       " ('F', 'D', 1),\n",
       " ('B', 'E', 1),\n",
       " ('C', 'G', 1),\n",
       " ('C', 'E', 1),\n",
       " ('E', 'D', 1),\n",
       " ('A', 'I', 0),\n",
       " ('A', 'H', 0),\n",
       " ('B', 'I', 0),\n",
       " ('B', 'G', 0),\n",
       " ('B', 'H', 0),\n",
       " ('I', 'C', 0),\n",
       " ('I', 'D', 0),\n",
       " ('C', 'H', 0),\n",
       " ('D', 'G', 0),\n",
       " ('D', 'H', 0)]"
      ]
     },
     "execution_count": 29,
     "metadata": {},
     "output_type": "execute_result"
    }
   ],
   "source": [
    "sorted(list(nx.cn_soundarajan_hopcroft(G)), key=lambda x:x[2], reverse=True)\n",
    "# no of common neighbours + bonus (how many of those common neighbours are in the same community)"
   ]
  },
  {
   "cell_type": "code",
   "execution_count": 30,
   "metadata": {},
   "outputs": [
    {
     "data": {
      "text/plain": [
       "[('A', 'C', 0.6666666666666666),\n",
       " ('F', 'I', 0.25),\n",
       " ('F', 'H', 0.25),\n",
       " ('I', 'H', 0.25),\n",
       " ('I', 'E', 0.25),\n",
       " ('E', 'H', 0.25),\n",
       " ('A', 'F', 0),\n",
       " ('A', 'I', 0),\n",
       " ('A', 'H', 0),\n",
       " ('A', 'G', 0),\n",
       " ('F', 'B', 0),\n",
       " ('F', 'D', 0),\n",
       " ('B', 'I', 0),\n",
       " ('B', 'G', 0),\n",
       " ('B', 'E', 0),\n",
       " ('B', 'H', 0),\n",
       " ('I', 'C', 0),\n",
       " ('I', 'D', 0),\n",
       " ('C', 'G', 0),\n",
       " ('C', 'E', 0),\n",
       " ('C', 'H', 0),\n",
       " ('E', 'D', 0),\n",
       " ('D', 'G', 0),\n",
       " ('D', 'H', 0)]"
      ]
     },
     "execution_count": 30,
     "metadata": {},
     "output_type": "execute_result"
    }
   ],
   "source": [
    "sorted(list(nx.ra_index_soundarajan_hopcroft(G)), key=lambda x:x[2], reverse=True)\n",
    "\n",
    "# 1/ no of degree of common edge if both egdes in same community else 0/no of degree of common egde"
   ]
  },
  {
   "cell_type": "code",
   "execution_count": null,
   "metadata": {},
   "outputs": [],
   "source": []
  }
 ],
 "metadata": {
  "kernelspec": {
   "display_name": "Python 3",
   "language": "python",
   "name": "python3"
  },
  "language_info": {
   "codemirror_mode": {
    "name": "ipython",
    "version": 3
   },
   "file_extension": ".py",
   "mimetype": "text/x-python",
   "name": "python",
   "nbconvert_exporter": "python",
   "pygments_lexer": "ipython3",
   "version": "3.7.6"
  }
 },
 "nbformat": 4,
 "nbformat_minor": 4
}
