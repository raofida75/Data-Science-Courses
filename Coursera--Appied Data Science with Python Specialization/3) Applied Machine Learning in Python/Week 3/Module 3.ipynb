{
 "cells": [
  {
   "cell_type": "code",
   "execution_count": 1,
   "metadata": {},
   "outputs": [],
   "source": [
    "import numpy as np\n",
    "import pandas as pd\n",
    "import seaborn as sns\n",
    "import matplotlib.pyplot as plt\n",
    "from sklearn.model_selection import train_test_split\n",
    "from sklearn.datasets import load_digits"
   ]
  },
  {
   "cell_type": "code",
   "execution_count": 2,
   "metadata": {},
   "outputs": [
    {
     "data": {
      "text/plain": [
       "dict_keys(['data', 'target', 'target_names', 'images', 'DESCR'])"
      ]
     },
     "execution_count": 2,
     "metadata": {},
     "output_type": "execute_result"
    }
   ],
   "source": [
    "data = load_digits()\n",
    "data.keys()"
   ]
  },
  {
   "cell_type": "code",
   "execution_count": 3,
   "metadata": {},
   "outputs": [],
   "source": [
    "X = data['data']\n",
    "y = data['target']\n"
   ]
  },
  {
   "cell_type": "code",
   "execution_count": 4,
   "metadata": {},
   "outputs": [
    {
     "name": "stdout",
     "output_type": "stream",
     "text": [
      "0  178\n",
      "1  182\n",
      "2  177\n",
      "3  183\n",
      "4  181\n",
      "5  182\n",
      "6  181\n",
      "7  179\n",
      "8  174\n",
      "9  180\n"
     ]
    }
   ],
   "source": [
    "# no of instances for every digit\n",
    "for i,c in zip(data['target_names'], np.bincount(y)):\n",
    "    print(i, '', c)"
   ]
  },
  {
   "cell_type": "code",
   "execution_count": 5,
   "metadata": {},
   "outputs": [],
   "source": [
    "y_imb = y.copy()"
   ]
  },
  {
   "cell_type": "code",
   "execution_count": 6,
   "metadata": {},
   "outputs": [
    {
     "name": "stdout",
     "output_type": "stream",
     "text": [
      "Original labels:\t [1 2 3 4 5 6 7 8 9 0 1 2 3 4 5 6 7 8 9 0 1 2 3 4 5 6 7 8 9]\n",
      "New binary labels:\t [1 0 0 0 0 0 0 0 0 0 1 0 0 0 0 0 0 0 0 0 1 0 0 0 0 0 0 0 0]\n"
     ]
    }
   ],
   "source": [
    "# Creating a dataset with imbalanced binary classes:  \n",
    "# Negative class (0) is 'not digit 1' \n",
    "# Positive class (1) is 'digit 1'\n",
    "y_imb[y_imb!=1] = 0\n",
    "print('Original labels:\\t', y[1:30])\n",
    "print('New binary labels:\\t', y_imb[1:30])"
   ]
  },
  {
   "cell_type": "code",
   "execution_count": 7,
   "metadata": {},
   "outputs": [
    {
     "name": "stdout",
     "output_type": "stream",
     "text": [
      "0  1615\n",
      "1  182\n"
     ]
    }
   ],
   "source": [
    "for i,c in zip([0,1], np.bincount(y_imb)):\n",
    "    print(i, '', c)"
   ]
  },
  {
   "cell_type": "code",
   "execution_count": 8,
   "metadata": {},
   "outputs": [
    {
     "data": {
      "text/plain": [
       "0.9044444444444445"
      ]
     },
     "execution_count": 8,
     "metadata": {},
     "output_type": "execute_result"
    }
   ],
   "source": [
    "X_train, X_test, y_train, y_test = train_test_split(X, y_imb, test_size=0.25, random_state=0)\n",
    "\n",
    "# Accuracy of Support Vector Machine classifier\n",
    "from sklearn.svm import SVC\n",
    "\n",
    "svm = SVC(kernel='rbf', C=.01).fit(X_train, y_train)\n",
    "svm.score(X_test, y_test)\n",
    "\n",
    "# accuracy of this model and the dummy classifier below is exactly the same which tells us that this model has been overfitted."
   ]
  },
  {
   "cell_type": "markdown",
   "metadata": {},
   "source": [
    "# Dummy Classifier"
   ]
  },
  {
   "cell_type": "code",
   "execution_count": 9,
   "metadata": {},
   "outputs": [
    {
     "data": {
      "text/plain": [
       "0.9044444444444445"
      ]
     },
     "execution_count": 9,
     "metadata": {},
     "output_type": "execute_result"
    }
   ],
   "source": [
    "from sklearn.dummy import DummyClassifier\n",
    "\n",
    "# Negative class (0) is most frequent\n",
    "# Therefore the dummy 'most_frequent' classifier always predicts class 0\n",
    "dummy = DummyClassifier(strategy='most_frequent').fit(X_train, y_train)\n",
    "dummy.score(X_test, y_test)"
   ]
  },
  {
   "cell_type": "code",
   "execution_count": 10,
   "metadata": {},
   "outputs": [
    {
     "name": "stdout",
     "output_type": "stream",
     "text": [
      "0  450\n"
     ]
    }
   ],
   "source": [
    "for i,c in zip([0,1], np.bincount(dummy.predict(X_test))):\n",
    "    print(i, '', c)"
   ]
  },
  {
   "cell_type": "code",
   "execution_count": 11,
   "metadata": {},
   "outputs": [
    {
     "data": {
      "text/plain": [
       "0.9777777777777777"
      ]
     },
     "execution_count": 11,
     "metadata": {},
     "output_type": "execute_result"
    }
   ],
   "source": [
    "svm = SVC(kernel='linear', C=1).fit(X_train, y_train)\n",
    "svm.score(X_test, y_test)"
   ]
  },
  {
   "cell_type": "markdown",
   "metadata": {},
   "source": [
    "# Confusion matrices\n",
    "# Binary (two-class) confusion matrix"
   ]
  },
  {
   "cell_type": "code",
   "execution_count": 12,
   "metadata": {},
   "outputs": [],
   "source": [
    "from sklearn.metrics import confusion_matrix, classification_report, recall_score,precision_score, accuracy_score, f1_score"
   ]
  },
  {
   "cell_type": "code",
   "execution_count": 13,
   "metadata": {},
   "outputs": [
    {
     "name": "stdout",
     "output_type": "stream",
     "text": [
      "Dummy Classifier with most frequent class predicted every time.\n",
      " [[407   0]\n",
      " [ 43   0]]\n"
     ]
    }
   ],
   "source": [
    "print('Dummy Classifier with most frequent class predicted every time.\\n', confusion_matrix(y_test, dummy.predict(X_test)))"
   ]
  },
  {
   "cell_type": "code",
   "execution_count": 15,
   "metadata": {},
   "outputs": [
    {
     "name": "stdout",
     "output_type": "stream",
     "text": [
      "Dummy Classifier which produces random predictions w/ same class proportion as training set\n",
      " [[369  38]\n",
      " [ 41   2]]\n"
     ]
    }
   ],
   "source": [
    "dummy = DummyClassifier(strategy='stratified').fit(X_train, y_train)\n",
    "dummy_pred = dummy.predict(X_test)\n",
    "print('Dummy Classifier which produces random predictions w/ same class proportion as training set\\n', confusion_matrix(y_test, dummy_pred))"
   ]
  },
  {
   "cell_type": "code",
   "execution_count": 16,
   "metadata": {},
   "outputs": [
    {
     "name": "stdout",
     "output_type": "stream",
     "text": [
      "Support vector machine classifier (linear kernel, C=1)\n",
      " [[402   5]\n",
      " [  5  38]]\n"
     ]
    }
   ],
   "source": [
    "svm = SVC(kernel='linear', C=1).fit(X_train, y_train)\n",
    "svm_pred = svm.predict(X_test)\n",
    "\n",
    "print('Support vector machine classifier (linear kernel, C=1)\\n', confusion_matrix(y_test, svm_pred))"
   ]
  },
  {
   "cell_type": "code",
   "execution_count": 17,
   "metadata": {},
   "outputs": [
    {
     "name": "stdout",
     "output_type": "stream",
     "text": [
      "Logistic regression classifier (default settings)\n",
      " [[403   4]\n",
      " [  7  36]]\n"
     ]
    }
   ],
   "source": [
    "from sklearn.linear_model import LogisticRegression\n",
    "\n",
    "ln = LogisticRegression(max_iter=20000).fit(X_train, y_train)\n",
    "ln_pred = ln.predict(X_test)\n",
    "\n",
    "print('Logistic regression classifier (default settings)\\n', confusion_matrix(y_test,ln_pred))"
   ]
  },
  {
   "cell_type": "code",
   "execution_count": 18,
   "metadata": {},
   "outputs": [
    {
     "name": "stdout",
     "output_type": "stream",
     "text": [
      "Decision Tree Classifier (max depth=2 )\n",
      " [[400   7]\n",
      " [ 17  26]]\n"
     ]
    }
   ],
   "source": [
    "from sklearn.tree import DecisionTreeClassifier\n",
    "tree = DecisionTreeClassifier(max_depth=2)\n",
    "tree.fit(X_train, y_train)\n",
    "tree_pred = tree.predict(X_test)\n",
    "\n",
    "print('Decision Tree Classifier (max depth=2 )\\n', confusion_matrix(y_test,tree_pred))"
   ]
  },
  {
   "cell_type": "markdown",
   "metadata": {},
   "source": [
    "# Evaluation metrics for binary classification"
   ]
  },
  {
   "cell_type": "code",
   "execution_count": 19,
   "metadata": {},
   "outputs": [
    {
     "name": "stdout",
     "output_type": "stream",
     "text": [
      "Accuracy :  0.95\n",
      "Precision:  0.79\n",
      "Recall\t :  0.6\n",
      "F1 score :  0.68\n"
     ]
    }
   ],
   "source": [
    "# Accuracy = TP + TN / (TP + TN + FP + FN)\n",
    "# Precision = TP / (TP + FP)\n",
    "# Recall = TP / (TP + FN)  Also known as sensitivity, or True Positive Rate\n",
    "# F1 = 2 * Precision * Recall / (Precision + Recall) \n",
    "\n",
    "print('Accuracy : ', round(accuracy_score(y_test,tree_pred),2))\n",
    "print('Precision: ', round(precision_score(y_test,tree_pred),2))\n",
    "print('Recall\\t : ', round(recall_score(y_test,tree_pred),2))\n",
    "print('F1 score : ', round(f1_score(y_test,tree_pred),2))"
   ]
  },
  {
   "cell_type": "code",
   "execution_count": 20,
   "metadata": {},
   "outputs": [
    {
     "name": "stdout",
     "output_type": "stream",
     "text": [
      "              precision    recall  f1-score   support\n",
      "\n",
      "       not 1       0.96      0.98      0.97       407\n",
      "           1       0.79      0.60      0.68        43\n",
      "\n",
      "    accuracy                           0.95       450\n",
      "   macro avg       0.87      0.79      0.83       450\n",
      "weighted avg       0.94      0.95      0.94       450\n",
      "\n"
     ]
    }
   ],
   "source": [
    "from sklearn.metrics import classification_report\n",
    "\n",
    "print(classification_report(y_test, tree_pred, target_names=['not 1', '1']))"
   ]
  },
  {
   "cell_type": "code",
   "execution_count": 21,
   "metadata": {},
   "outputs": [
    {
     "name": "stdout",
     "output_type": "stream",
     "text": [
      "Random class-proportional (dummy)\n",
      "               precision    recall  f1-score   support\n",
      "\n",
      "       not 1       0.90      0.91      0.90       407\n",
      "           1       0.05      0.05      0.05        43\n",
      "\n",
      "    accuracy                           0.82       450\n",
      "   macro avg       0.48      0.48      0.48       450\n",
      "weighted avg       0.82      0.82      0.82       450\n",
      " \n",
      "\n",
      "SVM\n",
      "               precision    recall  f1-score   support\n",
      "\n",
      "       not 1       0.99      0.99      0.99       407\n",
      "           1       0.88      0.88      0.88        43\n",
      "\n",
      "    accuracy                           0.98       450\n",
      "   macro avg       0.94      0.94      0.94       450\n",
      "weighted avg       0.98      0.98      0.98       450\n",
      " \n",
      "\n",
      "Logistic regression\n",
      "               precision    recall  f1-score   support\n",
      "\n",
      "       not 1       0.98      0.99      0.99       407\n",
      "           1       0.90      0.84      0.87        43\n",
      "\n",
      "    accuracy                           0.98       450\n",
      "   macro avg       0.94      0.91      0.93       450\n",
      "weighted avg       0.98      0.98      0.98       450\n",
      " \n",
      "\n"
     ]
    }
   ],
   "source": [
    "\n",
    "print('Random class-proportional (dummy)\\n', \n",
    "      classification_report(y_test, dummy_pred, target_names=['not 1', '1']),'\\n')\n",
    "print('SVM\\n', \n",
    "      classification_report(y_test, svm_pred, target_names = ['not 1', '1']),'\\n')\n",
    "print('Logistic regression\\n', \n",
    "      classification_report(y_test, ln_pred, target_names = ['not 1', '1']),'\\n')\n"
   ]
  },
  {
   "cell_type": "markdown",
   "metadata": {},
   "source": [
    "# Decision Functions"
   ]
  },
  {
   "cell_type": "code",
   "execution_count": 22,
   "metadata": {},
   "outputs": [],
   "source": [
    "import warnings\n",
    "warnings.filterwarnings('ignore')"
   ]
  },
  {
   "cell_type": "code",
   "execution_count": 23,
   "metadata": {},
   "outputs": [],
   "source": [
    "ln = LogisticRegression().fit(X_train, y_train)"
   ]
  },
  {
   "cell_type": "code",
   "execution_count": 24,
   "metadata": {},
   "outputs": [],
   "source": [
    "dec_func = ln.decision_function(X_test)\n",
    "\n",
    "# dec_func >= 0, to predict positive instances  "
   ]
  },
  {
   "cell_type": "code",
   "execution_count": 25,
   "metadata": {},
   "outputs": [
    {
     "name": "stdout",
     "output_type": "stream",
     "text": [
      "0 -29.828780122412308\n",
      "0 -19.382862030530184\n",
      "0 -29.198492315019383\n",
      "0 -21.74628543622176\n",
      "0 -22.642376912827647\n",
      "0 -11.805930993502658\n",
      "1 6.4960075848698615\n",
      "0 -23.35461769048256\n",
      "0 -27.54381690026825\n",
      "0 -26.888212044652814\n",
      "0 -31.86296841355937\n",
      "0 -22.486081290223364\n",
      "0 -25.318028584392277\n",
      "0 -13.384518628616874\n",
      "0 -13.565643429049114\n",
      "0 -13.308352089647723\n",
      "1 12.180938449259916\n",
      "0 -34.362430815142936\n",
      "0 -13.23154393413785\n",
      "0 -29.593982949361617\n"
     ]
    }
   ],
   "source": [
    "for i,c in zip(y_test[0:20],dec_func[0:20]):\n",
    "    print(i,c)"
   ]
  },
  {
   "cell_type": "code",
   "execution_count": 26,
   "metadata": {},
   "outputs": [],
   "source": [
    "probability = ln.predict_proba(X_test)"
   ]
  },
  {
   "cell_type": "code",
   "execution_count": 27,
   "metadata": {},
   "outputs": [
    {
     "name": "stdout",
     "output_type": "stream",
     "text": [
      "0 1.110517459593521e-13\n",
      "0 3.820585956448586e-09\n",
      "0 2.0857195297155586e-13\n",
      "0 3.595077301190379e-10\n",
      "0 1.4673734251399272e-10\n",
      "0 7.460124509137367e-06\n",
      "1 0.9984928214717077\n",
      "0 7.198108854184124e-11\n",
      "0 1.091119480651798e-12\n",
      "0 2.1018314238773634e-12\n",
      "0 1.452408028597767e-14\n",
      "0 1.7156116075914767e-10\n",
      "0 1.0104617842902744e-11\n",
      "0 1.5387807630727936e-06\n",
      "0 1.283853169890642e-06\n",
      "0 1.6605631764475244e-06\n",
      "1 0.9999948727626726\n",
      "0 1.1928502123299163e-15\n",
      "0 1.7931338274640275e-06\n",
      "0 1.404418389683268e-13\n"
     ]
    }
   ],
   "source": [
    "for i,c in zip(y_test[0:20],probability[0:20][:,1]):\n",
    "    print(i,c)\n",
    "\n",
    "# probability >= 0.5, to predict positive instances\n"
   ]
  },
  {
   "cell_type": "markdown",
   "metadata": {},
   "source": [
    "# Precision Recall curve"
   ]
  },
  {
   "cell_type": "code",
   "execution_count": 28,
   "metadata": {},
   "outputs": [],
   "source": [
    "from sklearn.metrics import precision_recall_curve"
   ]
  },
  {
   "cell_type": "code",
   "execution_count": 29,
   "metadata": {},
   "outputs": [],
   "source": [
    "precision,recall,threshold = precision_recall_curve(y_test, dec_func)"
   ]
  },
  {
   "cell_type": "code",
   "execution_count": 30,
   "metadata": {},
   "outputs": [
    {
     "data": {
      "image/png": "[encoded data removed]",
      "text/plain": [
       "<Figure size 432x288 with 1 Axes>"
      ]
     },
     "metadata": {
      "needs_background": "light"
     },
     "output_type": "display_data"
    }
   ],
   "source": [
    "\n",
    "plt.plot(precision,recall,'r')\n",
    "plt.plot(precision[np.argmin(np.abs(threshold))], recall[np.argmin(np.abs(threshold))],'o', c='k',fillstyle='none', ms=12, mew=3)\n",
    "plt.ylabel('Recall')\n",
    "plt.xlabel('Precision');\n"
   ]
  },
  {
   "cell_type": "markdown",
   "metadata": {},
   "source": [
    "# ROC curves, Area-Under-Curve (AUC)"
   ]
  },
  {
   "cell_type": "code",
   "execution_count": 31,
   "metadata": {},
   "outputs": [],
   "source": [
    "from sklearn.metrics import roc_curve, auc"
   ]
  },
  {
   "cell_type": "code",
   "execution_count": 32,
   "metadata": {},
   "outputs": [],
   "source": [
    "fpr, tpr, _ = roc_curve(y_test, dec_func)"
   ]
  },
  {
   "cell_type": "code",
   "execution_count": 33,
   "metadata": {},
   "outputs": [
    {
     "data": {
      "image/png": "[encoded data removed]",
      "text/plain": [
       "<Figure size 432x288 with 1 Axes>"
      ]
     },
     "metadata": {
      "needs_background": "light"
     },
     "output_type": "display_data"
    }
   ],
   "source": [
    "plt.plot(fpr,tpr, lw=3 , label='Area under the curve ={:0.2f}'.format(auc(fpr,tpr)))\n",
    "plt.title('ROC Curve for digits dataset')\n",
    "plt.ylabel('True Positive Rate')\n",
    "plt.xlabel('False Positive Rate')\n",
    "plt.plot([0,1], [0,1], color='navy', lw=2, ls='--')\n",
    "plt.legend();"
   ]
  },
  {
   "cell_type": "code",
   "execution_count": 34,
   "metadata": {},
   "outputs": [
    {
     "data": {
      "image/png": "[encoded data removed]",
      "text/plain": [
       "<Figure size 432x288 with 1 Axes>"
      ]
     },
     "metadata": {
      "needs_background": "light"
     },
     "output_type": "display_data"
    }
   ],
   "source": [
    "for g in [0.01,0.1,0.2,1]:\n",
    "    svc_des = SVC(gamma = g).fit(X_train, y_train).decision_function(X_test)\n",
    "\n",
    "    fpr_ , tpr_, __ = roc_curve(y_test, svc_des)\n",
    "\n",
    "    plt.plot(fpr_,tpr_, lw=3, label='Area under the curve ={:0.2f}, gamma={}'.format(auc(fpr_,tpr_), g))\n",
    "    plt.title('ROC Curve for digits dataset ')\n",
    "    plt.ylabel('True Positive Rate')\n",
    "    plt.xlabel('False Positive Rate')\n",
    "    plt.plot([0,1], [0,1], color='navy', lw=2, ls='--')\n",
    "    plt.legend()\n",
    "plt.show()"
   ]
  },
  {
   "cell_type": "markdown",
   "metadata": {},
   "source": [
    "# Multi class confusion matrix"
   ]
  },
  {
   "cell_type": "code",
   "execution_count": 35,
   "metadata": {},
   "outputs": [],
   "source": [
    "X_train, X_test, y_train, y_test = train_test_split(X, y, test_size=0.25, random_state=0)"
   ]
  },
  {
   "cell_type": "code",
   "execution_count": 36,
   "metadata": {},
   "outputs": [
    {
     "data": {
      "image/png": "[encoded data removed]",
      "text/plain": [
       "<Figure size 720x432 with 1 Axes>"
      ]
     },
     "metadata": {
      "needs_background": "light"
     },
     "output_type": "display_data"
    },
    {
     "data": {
      "image/png": "[encoded data removed]",
      "text/plain": [
       "<Figure size 720x432 with 1 Axes>"
      ]
     },
     "metadata": {
      "needs_background": "light"
     },
     "output_type": "display_data"
    }
   ],
   "source": [
    "for i in ['linear', 'rbf']:\n",
    "    svc = SVC(kernel=i, C=0.02).fit(X_train, y_train)\n",
    "    svc_pred = svc.predict(X_test)\n",
    "    plt.figure(figsize=(10,6))\n",
    "    sns.heatmap(confusion_matrix(y_test, svc_pred), \n",
    "                xticklabels=data['target_names'],yticklabels=data['target_names'], annot=True, cbar=False)\n",
    "    plt.ylabel('True label')\n",
    "    plt.xlabel('Predicted label')\n",
    "    plt.show()"
   ]
  },
  {
   "cell_type": "code",
   "execution_count": 37,
   "metadata": {},
   "outputs": [
    {
     "name": "stdout",
     "output_type": "stream",
     "text": [
      "              precision    recall  f1-score   support\n",
      "\n",
      "           0       0.88      1.00      0.94        37\n",
      "           1       0.46      1.00      0.63        43\n",
      "           2       1.00      0.52      0.69        44\n",
      "           3       0.38      0.96      0.55        45\n",
      "           4       0.71      0.97      0.82        38\n",
      "           5       0.93      0.83      0.88        48\n",
      "           6       1.00      0.90      0.95        52\n",
      "           7       0.95      0.73      0.82        48\n",
      "           8       0.00      0.00      0.00        48\n",
      "           9       0.00      0.00      0.00        47\n",
      "\n",
      "    accuracy                           0.68       450\n",
      "   macro avg       0.63      0.69      0.63       450\n",
      "weighted avg       0.63      0.68      0.62       450\n",
      "\n"
     ]
    }
   ],
   "source": [
    "print(classification_report(y_test, svc_pred))"
   ]
  },
  {
   "cell_type": "code",
   "execution_count": 38,
   "metadata": {},
   "outputs": [
    {
     "name": "stdout",
     "output_type": "stream",
     "text": [
      "Micro-averaged precision = 0.68 (treat instances equally)\n",
      "Macro-averaged precision = 0.63 (treat classes equally)\n"
     ]
    }
   ],
   "source": [
    "# Precision\n",
    "print('Micro-averaged precision = {:.2f} (treat instances equally)'\n",
    "      .format(precision_score(y_test, svc_pred, average = 'micro')))\n",
    "print('Macro-averaged precision = {:.2f} (treat classes equally)'\n",
    "      .format(precision_score(y_test, svc_pred, average = 'macro')))"
   ]
  },
  {
   "cell_type": "code",
   "execution_count": 39,
   "metadata": {},
   "outputs": [
    {
     "name": "stdout",
     "output_type": "stream",
     "text": [
      "Micro-averaged precision = 0.68 (treat instances equally)\n",
      "Macro-averaged precision = 0.69 (treat classes equally)\n"
     ]
    }
   ],
   "source": [
    "# Recall\n",
    "print('Micro-averaged precision = {:.2f} (treat instances equally)'\n",
    "      .format(recall_score(y_test, svc_pred, average = 'micro')))\n",
    "print('Macro-averaged precision = {:.2f} (treat classes equally)'\n",
    "      .format(recall_score(y_test, svc_pred, average = 'macro')))"
   ]
  },
  {
   "cell_type": "markdown",
   "metadata": {},
   "source": [
    "# Regression evaluation metrics"
   ]
  },
  {
   "cell_type": "code",
   "execution_count": 41,
   "metadata": {},
   "outputs": [],
   "source": [
    "from sklearn.linear_model import LinearRegression\n",
    "from sklearn.metrics import mean_squared_error, r2_score\n",
    "from sklearn.dummy import DummyRegressor\n",
    "from sklearn import datasets\n",
    "\n",
    "diabetes = datasets.load_diabetes()"
   ]
  },
  {
   "cell_type": "code",
   "execution_count": 43,
   "metadata": {},
   "outputs": [
    {
     "data": {
      "text/plain": [
       "(442, 10)"
      ]
     },
     "execution_count": 43,
     "metadata": {},
     "output_type": "execute_result"
    }
   ],
   "source": [
    "diabetes['data'].shape"
   ]
  },
  {
   "cell_type": "code",
   "execution_count": 52,
   "metadata": {},
   "outputs": [],
   "source": [
    "X = diabetes['data'][:,6].reshape(-1,1)\n",
    "y = diabetes['target']"
   ]
  },
  {
   "cell_type": "code",
   "execution_count": 55,
   "metadata": {},
   "outputs": [],
   "source": [
    "X_train, X_test, y_train, y_test = train_test_split(X, y, test_size=0.25, random_state=0)"
   ]
  },
  {
   "cell_type": "code",
   "execution_count": 56,
   "metadata": {},
   "outputs": [],
   "source": [
    "linreg = LinearRegression().fit(X_train, y_train)\n",
    "dummy = DummyRegressor(strategy='mean').fit(X_train, y_train)"
   ]
  },
  {
   "cell_type": "code",
   "execution_count": 57,
   "metadata": {},
   "outputs": [],
   "source": [
    "linreg_pred = linreg.predict(X_test)\n",
    "dummy_pred = dummy.predict(X_test)"
   ]
  },
  {
   "cell_type": "code",
   "execution_count": 65,
   "metadata": {},
   "outputs": [
    {
     "data": {
      "image/png": "[encoded data removed]",
      "text/plain": [
       "<Figure size 576x360 with 1 Axes>"
      ]
     },
     "metadata": {
      "needs_background": "light"
     },
     "output_type": "display_data"
    }
   ],
   "source": [
    "plt.figure(figsize=(8,5))\n",
    "plt.scatter(X_test, y_test, color='k')\n",
    "plt.plot(X_test, linreg_pred, label = 'Linear Regression')\n",
    "plt.plot(X_test, dummy_pred, label = 'Dummy Regressor')\n",
    "plt.legend();"
   ]
  },
  {
   "cell_type": "code",
   "execution_count": 77,
   "metadata": {},
   "outputs": [
    {
     "name": "stdout",
     "output_type": "stream",
     "text": [
      "Linear Regression Coefficients: [-698.80206267]\n",
      "R2 score Linear Regression: 0.06\n",
      "RMSE Linear Regression: 68.17\n",
      "R2 score Dummy Regressor: -0.00\n",
      "RMSE Dummy Regressor: 70.46\n"
     ]
    }
   ],
   "source": [
    "print('Linear Regression Coefficients: {}'.format(linreg.coef_))\n",
    "print('R2 score Linear Regression: {:0.2f}'.format(r2_score(y_test, linreg_pred)))\n",
    "print('RMSE Linear Regression: {:0.2f}'.format(np.sqrt(mean_squared_error(y_test, linreg_pred))))\n",
    "\n",
    "print('R2 score Dummy Regressor: {:0.2f}'.format(r2_score(y_test, dummy_pred)))\n",
    "print('RMSE Dummy Regressor: {:0.2f}'.format(np.sqrt(mean_squared_error(y_test, dummy_pred))))"
   ]
  },
  {
   "cell_type": "markdown",
   "metadata": {},
   "source": [
    "# Model selection using evaluation metrics\n",
    "# Cross-validation example"
   ]
  },
  {
   "cell_type": "code",
   "execution_count": 82,
   "metadata": {},
   "outputs": [],
   "source": [
    "from sklearn.model_selection import cross_val_score"
   ]
  },
  {
   "cell_type": "code",
   "execution_count": 84,
   "metadata": {},
   "outputs": [],
   "source": [
    "X = data['data']\n",
    "# y_imb"
   ]
  },
  {
   "cell_type": "code",
   "execution_count": 94,
   "metadata": {},
   "outputs": [
    {
     "data": {
      "text/plain": [
       "dict_keys(['explained_variance', 'r2', 'max_error', 'neg_median_absolute_error', 'neg_mean_absolute_error', 'neg_mean_squared_error', 'neg_mean_squared_log_error', 'neg_root_mean_squared_error', 'neg_mean_poisson_deviance', 'neg_mean_gamma_deviance', 'accuracy', 'roc_auc', 'roc_auc_ovr', 'roc_auc_ovo', 'roc_auc_ovr_weighted', 'roc_auc_ovo_weighted', 'balanced_accuracy', 'average_precision', 'neg_log_loss', 'neg_brier_score', 'adjusted_rand_score', 'homogeneity_score', 'completeness_score', 'v_measure_score', 'mutual_info_score', 'adjusted_mutual_info_score', 'normalized_mutual_info_score', 'fowlkes_mallows_score', 'precision', 'precision_macro', 'precision_micro', 'precision_samples', 'precision_weighted', 'recall', 'recall_macro', 'recall_micro', 'recall_samples', 'recall_weighted', 'f1', 'f1_macro', 'f1_micro', 'f1_samples', 'f1_weighted', 'jaccard', 'jaccard_macro', 'jaccard_micro', 'jaccard_samples', 'jaccard_weighted'])"
      ]
     },
     "execution_count": 94,
     "metadata": {},
     "output_type": "execute_result"
    }
   ],
   "source": [
    "from sklearn.metrics import SCORERS\n",
    "SCORERS.keys()"
   ]
  },
  {
   "cell_type": "code",
   "execution_count": 97,
   "metadata": {},
   "outputs": [],
   "source": [
    "svc = SVC(kernel='linear')\n",
    "\n",
    "cv=cross_val_score(svc, X, y_imb, cv=5)\n",
    "cv_recall=cross_val_score(svc, X, y_imb, cv=5, scoring='recall')\n",
    "cv_auc=cross_val_score(svc, X, y_imb, cv=5, scoring='roc_auc')"
   ]
  },
  {
   "cell_type": "code",
   "execution_count": 107,
   "metadata": {},
   "outputs": [
    {
     "name": "stdout",
     "output_type": "stream",
     "text": [
      "Cross-validation (acc):\t   [0.91944444 0.98611111 0.97214485 0.97493036 0.96935933]\n",
      "Cross-validation (AUC):\t   [0.9641871  0.9976571  0.99372205 0.99699002 0.98675611]\n",
      "Cross-validation (recall): [0.81081081 0.89189189 0.83333333 0.83333333 0.83333333]\n"
     ]
    }
   ],
   "source": [
    "# accuracy is the default scoring metric\n",
    "print('Cross-validation (acc):\\t  ', cv)\n",
    "# use AUC as scoring metric\n",
    "print('Cross-validation (AUC):\\t  ', cv_auc)\n",
    "# use recall as scoring metric\n",
    "print('Cross-validation (recall):', cv_recall)"
   ]
  },
  {
   "cell_type": "markdown",
   "metadata": {},
   "source": [
    "# Grid Search "
   ]
  },
  {
   "cell_type": "code",
   "execution_count": 108,
   "metadata": {},
   "outputs": [],
   "source": [
    "from sklearn.model_selection import GridSearchCV\n"
   ]
  },
  {
   "cell_type": "code",
   "execution_count": 109,
   "metadata": {},
   "outputs": [],
   "source": [
    "X_train, X_test, y_train, y_test = train_test_split(X, y_imb, random_state=0)"
   ]
  },
  {
   "cell_type": "code",
   "execution_count": 110,
   "metadata": {},
   "outputs": [
    {
     "data": {
      "text/plain": [
       "GridSearchCV(cv=None, error_score=nan,\n",
       "             estimator=SVC(C=1.0, break_ties=False, cache_size=200,\n",
       "                           class_weight=None, coef0=0.0,\n",
       "                           decision_function_shape='ovr', degree=3,\n",
       "                           gamma='scale', kernel='rbf', max_iter=-1,\n",
       "                           probability=False, random_state=None, shrinking=True,\n",
       "                           tol=0.001, verbose=False),\n",
       "             iid='deprecated', n_jobs=None,\n",
       "             param_grid={'gamma': [0.001, 0.01, 0.1, 1, 100, 1000]},\n",
       "             pre_dispatch='2*n_jobs', refit=True, return_train_score=False,\n",
       "             scoring=None, verbose=0)"
      ]
     },
     "execution_count": 110,
     "metadata": {},
     "output_type": "execute_result"
    }
   ],
   "source": [
    "svc = SVC(kernel='rbf')\n",
    "params = {'gamma': [0.001,0.01,0.1,1,100,1000]}\n",
    "grid = GridSearchCV(svc, params)\n",
    "grid.fit(X_train, y_train)"
   ]
  },
  {
   "cell_type": "code",
   "execution_count": 124,
   "metadata": {},
   "outputs": [
    {
     "name": "stdout",
     "output_type": "stream",
     "text": [
      "Best Paramter:  {'gamma': 0.001}\n",
      "Accuracy:  0.9985157648354676\n",
      "AUC:  0.99982858122393\n"
     ]
    }
   ],
   "source": [
    "from sklearn.metrics import roc_auc_score\n",
    "\n",
    "print('Best Paramter: ', grid.best_params_)\n",
    "print('Accuracy: ', grid.best_score_,)\n",
    "print('AUC: ', (roc_auc_score(y_test, grid.decision_function(X_test))))"
   ]
  },
  {
   "cell_type": "code",
   "execution_count": 127,
   "metadata": {},
   "outputs": [
    {
     "name": "stdout",
     "output_type": "stream",
     "text": [
      "Best Paramter:  {'gamma': 0.001}\n",
      "Best Score:  1.0\n"
     ]
    }
   ],
   "source": [
    "grid = GridSearchCV(svc, params, scoring='roc_auc')\n",
    "grid.fit(X_train, y_train)\n",
    "print('Best Paramter: ', grid.best_params_)\n",
    "print('Best Score: ', grid.best_score_,)"
   ]
  },
  {
   "cell_type": "code",
   "execution_count": null,
   "metadata": {},
   "outputs": [],
   "source": []
  }
 ],
 "metadata": {
  "kernelspec": {
   "display_name": "Python 3",
   "language": "python",
   "name": "python3"
  },
  "language_info": {
   "codemirror_mode": {
    "name": "ipython",
    "version": 3
   },
   "file_extension": ".py",
   "mimetype": "text/x-python",
   "name": "python",
   "nbconvert_exporter": "python",
   "pygments_lexer": "ipython3",
   "version": "3.7.6"
  }
 },
 "nbformat": 4,
 "nbformat_minor": 4
}
